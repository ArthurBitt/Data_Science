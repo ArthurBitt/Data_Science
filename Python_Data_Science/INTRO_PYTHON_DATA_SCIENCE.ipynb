{
  "nbformat": 4,
  "nbformat_minor": 0,
  "metadata": {
    "colab": {
      "provenance": []
    },
    "kernelspec": {
      "name": "python3",
      "display_name": "Python 3"
    },
    "language_info": {
      "name": "python"
    }
  },
  "cells": [
    {
      "cell_type": "markdown",
      "source": [
        "## lógica de programação\n",
        "\n",
        "\n"
      ],
      "metadata": {
        "id": "F--rtEdvSMnx"
      }
    },
    {
      "cell_type": "code",
      "source": [
        "idade = 25"
      ],
      "metadata": {
        "id": "5DQwDRBQS7Yy"
      },
      "execution_count": null,
      "outputs": []
    },
    {
      "cell_type": "code",
      "source": [
        "nome =\"Arthur\""
      ],
      "metadata": {
        "id": "cP78MrrOTGYd"
      },
      "execution_count": null,
      "outputs": []
    },
    {
      "cell_type": "code",
      "source": [
        "print(f'Meu nome é {nome} e tenho {idade} anos')"
      ],
      "metadata": {
        "colab": {
          "base_uri": "https://localhost:8080/"
        },
        "id": "IKsEYrfffk-G",
        "outputId": "64dea2b2-f1ba-4cf8-b64b-6a32a75bfae9"
      },
      "execution_count": null,
      "outputs": [
        {
          "output_type": "stream",
          "name": "stdout",
          "text": [
            "Meu nome é Arthur e tenho 25 anos\n"
          ]
        }
      ]
    },
    {
      "cell_type": "markdown",
      "source": [
        "## Funções"
      ],
      "metadata": {
        "id": "cYA2DFzJfdK7"
      }
    },
    {
      "cell_type": "code",
      "source": [
        "def saudacao():\n",
        "  nome = input(\"qual é seu nome \")\n",
        "  print(f\"seja bem vindo {nome}!\")"
      ],
      "metadata": {
        "id": "5fFEvHRTffdQ"
      },
      "execution_count": null,
      "outputs": []
    },
    {
      "cell_type": "code",
      "source": [
        "saudacao()"
      ],
      "metadata": {
        "colab": {
          "base_uri": "https://localhost:8080/"
        },
        "id": "LiCyORuKgXpk",
        "outputId": "6b894cce-3f20-4c98-93bc-c11c73ef2d57"
      },
      "execution_count": null,
      "outputs": [
        {
          "output_type": "stream",
          "name": "stdout",
          "text": [
            "qual é seu nome Arthur\n",
            "seja bem vindo Arthur!\n"
          ]
        }
      ]
    },
    {
      "cell_type": "code",
      "source": [
        "nome = 'Arthur'\n",
        "\n",
        "def saudacao_com_parametros(variavel_parametro):\n",
        "  print(f'o conteudo alocado como parametro é {variavel_parametro}, valor que está contido na variavel nome')"
      ],
      "metadata": {
        "id": "YcAKxaLE17YB"
      },
      "execution_count": null,
      "outputs": []
    },
    {
      "cell_type": "code",
      "source": [
        "saudacao_com_parametros(nome)"
      ],
      "metadata": {
        "colab": {
          "base_uri": "https://localhost:8080/"
        },
        "id": "LVIE5Amt2ZHr",
        "outputId": "8b433fd8-c613-441d-ec98-58ccd7a3d68e"
      },
      "execution_count": null,
      "outputs": [
        {
          "output_type": "stream",
          "name": "stdout",
          "text": [
            "o conteudo alocado como parametro é Arthur, valor que está contido na variavel nome\n"
          ]
        }
      ]
    },
    {
      "cell_type": "markdown",
      "source": [
        "## Condicional"
      ],
      "metadata": {
        "id": "08ySwD1LtpfF"
      }
    },
    {
      "cell_type": "code",
      "source": [
        "idade = 25"
      ],
      "metadata": {
        "id": "-ngX6qBOtszi"
      },
      "execution_count": null,
      "outputs": []
    },
    {
      "cell_type": "code",
      "source": [
        "def verifica_se_pode_dirigir(idade):\n",
        "  if idade >= 18:\n",
        "    print(f'sua idade é {idade}, portanto pode dirigir')\n",
        "  else:\n",
        "    print('Não pode dirigir')"
      ],
      "metadata": {
        "id": "fA2H5QMstwir"
      },
      "execution_count": null,
      "outputs": []
    },
    {
      "cell_type": "code",
      "source": [
        "verifica_se_pode_dirigir()"
      ],
      "metadata": {
        "colab": {
          "base_uri": "https://localhost:8080/"
        },
        "id": "VBKUgnGxvJ0U",
        "outputId": "454297f8-3e8d-4fa1-ae29-e22919ff0fbb"
      },
      "execution_count": null,
      "outputs": [
        {
          "output_type": "stream",
          "name": "stdout",
          "text": [
            "sua idade é 25, portanto pode dirigir\n"
          ]
        }
      ]
    },
    {
      "cell_type": "markdown",
      "source": [
        "## Covertendo para int"
      ],
      "metadata": {
        "id": "R_z9BrV1wXcA"
      }
    },
    {
      "cell_type": "code",
      "source": [
        "def verifica_se_pode_dirigir_sem_parametros():\n",
        "  idade = int(input(\"qual sua idade? \"))\n",
        "  if idade >= 18:\n",
        "    print(f'sua idade é {idade}, portanto pode dirigir')\n",
        "  else:\n",
        "    print('Não pode dirigir')"
      ],
      "metadata": {
        "id": "f0TpIcvpviEn"
      },
      "execution_count": null,
      "outputs": []
    },
    {
      "cell_type": "code",
      "source": [
        "verifica_se_pode_dirigir_sem_parametros()"
      ],
      "metadata": {
        "colab": {
          "base_uri": "https://localhost:8080/"
        },
        "id": "y1u9xdJ_wCjW",
        "outputId": "322d984b-07c9-4b6c-c146-43190186a057"
      },
      "execution_count": null,
      "outputs": [
        {
          "output_type": "stream",
          "name": "stdout",
          "text": [
            "qual sua idade? 25\n",
            "sua idade é 25, portanto pode dirigir\n"
          ]
        }
      ]
    },
    {
      "cell_type": "markdown",
      "source": [
        "# Lista"
      ],
      "metadata": {
        "id": "o3E1gy9kpH_T"
      }
    },
    {
      "cell_type": "code",
      "source": [
        "idades = [1,2,3,4,5]\n",
        "\n",
        "print(idades)\n",
        "\n",
        "print(f'\\n o tipo da estrutura é : {type(idades)}')\n",
        "\n",
        "#index é o valor posicional de um item da lista, o primeiro item de toda lista tem index = 0\n",
        "\n",
        "print(f'\\n a primeira posição é : {idades[0]}')\n",
        "\n",
        "\n",
        "#O fatiamento secciona a lista de um valor até outro, [inicio: fim -1]\n",
        "\n",
        "print(f'\\n lista idades seccionada do 1 ao 3 {idades[0:3]}')"
      ],
      "metadata": {
        "colab": {
          "base_uri": "https://localhost:8080/"
        },
        "id": "OPvUeaR0pJ70",
        "outputId": "95804fbd-7996-4f30-a6e0-3ca2e5a57a1b"
      },
      "execution_count": null,
      "outputs": [
        {
          "output_type": "stream",
          "name": "stdout",
          "text": [
            "[1, 2, 3, 4, 5]\n",
            "\n",
            " o tipo da estrutura é : <class 'list'>\n",
            "\n",
            " a primeira posição é : 1\n",
            "\n",
            " lista idades seccionada do 1 ao 3 [1, 2, 3]\n"
          ]
        }
      ]
    },
    {
      "cell_type": "markdown",
      "source": [
        "## Laços e Loops"
      ],
      "metadata": {
        "id": "KkY4UJFsvkTy"
      }
    },
    {
      "cell_type": "code",
      "source": [
        "idades = [17,20,9,32,21]"
      ],
      "metadata": {
        "id": "hS2UW3tAvrBV"
      },
      "execution_count": null,
      "outputs": []
    },
    {
      "cell_type": "code",
      "source": [
        "def verifica_se_pode_dirigir(idade):\n",
        "  if idade >= 18:\n",
        "    print(f'sua idade é {idade}, portanto pode dirigir')\n",
        "  else:\n",
        "    print(f'{idade} Não pode dirigir')"
      ],
      "metadata": {
        "id": "_ERWO2Psvl7k"
      },
      "execution_count": null,
      "outputs": []
    },
    {
      "cell_type": "code",
      "source": [
        "for idade in idades:\n",
        "  verifica_se_pode_dirigir(idade)"
      ],
      "metadata": {
        "colab": {
          "base_uri": "https://localhost:8080/"
        },
        "id": "x42PLLZDwQqD",
        "outputId": "fa4091f8-700b-4082-ddb2-10cf0f8bcf81"
      },
      "execution_count": null,
      "outputs": [
        {
          "output_type": "stream",
          "name": "stdout",
          "text": [
            "17 Não pode dirigir\n",
            "sua idade é 20, portanto pode dirigir\n",
            "9 Não pode dirigir\n",
            "sua idade é 32, portanto pode dirigir\n",
            "sua idade é 21, portanto pode dirigir\n"
          ]
        }
      ]
    },
    {
      "cell_type": "markdown",
      "source": [
        "#For dentro da função"
      ],
      "metadata": {
        "id": "bSVQ4juqxKwQ"
      }
    },
    {
      "cell_type": "code",
      "source": [
        "def verifica_se_pode_dirigir2():\n",
        "  for idade in idades:\n",
        "    if idade >= 18:\n",
        "      print(f'sua idade é {idade}, portanto pode dirigir')\n",
        "    else:\n",
        "      print(f'sua idade é {idade}, portanto nã pode dirigir')"
      ],
      "metadata": {
        "id": "jMUVO4nlwqC_"
      },
      "execution_count": null,
      "outputs": []
    },
    {
      "cell_type": "code",
      "source": [
        "idades = [17,20,9,32,21]\n",
        "\n",
        "verifica_se_pode_dirigir2()"
      ],
      "metadata": {
        "colab": {
          "base_uri": "https://localhost:8080/"
        },
        "id": "9socC8gpxDUy",
        "outputId": "186e924d-777a-42e9-b799-4a89eb7f0026"
      },
      "execution_count": null,
      "outputs": [
        {
          "output_type": "stream",
          "name": "stdout",
          "text": [
            "sua idade é 17, portanto nã pode dirigir\n",
            "sua idade é 20, portanto pode dirigir\n",
            "sua idade é 9, portanto nã pode dirigir\n",
            "sua idade é 32, portanto pode dirigir\n",
            "sua idade é 21, portanto pode dirigir\n"
          ]
        }
      ]
    },
    {
      "cell_type": "markdown",
      "source": [
        "#Boleano"
      ],
      "metadata": {
        "id": "ivV1JbLPxodV"
      }
    },
    {
      "cell_type": "code",
      "source": [
        "idade = 18\n",
        "\n",
        "idade >=18\n"
      ],
      "metadata": {
        "colab": {
          "base_uri": "https://localhost:8080/"
        },
        "id": "Bbk1Pe-lxs-M",
        "outputId": "208bcb6f-f9d9-4ca5-9c08-ef36a9843bbd"
      },
      "execution_count": null,
      "outputs": [
        {
          "output_type": "execute_result",
          "data": {
            "text/plain": [
              "True"
            ]
          },
          "metadata": {},
          "execution_count": 16
        }
      ]
    },
    {
      "cell_type": "code",
      "source": [
        "idade = 18\n",
        "\n",
        "idade <=15"
      ],
      "metadata": {
        "colab": {
          "base_uri": "https://localhost:8080/"
        },
        "id": "t9Dh_NMFx0Rl",
        "outputId": "88314c00-de7d-4504-d96b-1375dc76b76a"
      },
      "execution_count": null,
      "outputs": [
        {
          "output_type": "execute_result",
          "data": {
            "text/plain": [
              "False"
            ]
          },
          "metadata": {},
          "execution_count": 17
        }
      ]
    },
    {
      "cell_type": "code",
      "source": [
        "permissoes = []\n",
        "\n",
        "idades = [20, 14, 40]\n",
        "\n",
        "\n",
        "def verifica_se_pode_dirigir(idades, permissoes):\n",
        "  for idade in idades:\n",
        "    if idade >=18:\n",
        "      permissoes.append(True)\n",
        "    else:\n",
        "      permissoes.append(False)\n",
        "\n",
        "\n",
        "verifica_se_pode_dirigir(idades, permissoes)\n",
        "\n",
        "\n",
        "print(permissoes)\n",
        "\n",
        "\n",
        "\n"
      ],
      "metadata": {
        "colab": {
          "base_uri": "https://localhost:8080/"
        },
        "id": "XbgfLOqOx5Sn",
        "outputId": "564cbe85-4128-4324-d78f-88499e7c440f"
      },
      "execution_count": null,
      "outputs": [
        {
          "output_type": "stream",
          "name": "stdout",
          "text": [
            "[True, False, True]\n"
          ]
        }
      ]
    },
    {
      "cell_type": "code",
      "source": [
        "for permissao in permissoes:\n",
        "  if permissao ==True:\n",
        "    print('Tem permissão para dirigir')\n",
        "  else:\n",
        "    print('Não tem permissão para dirigir')"
      ],
      "metadata": {
        "colab": {
          "base_uri": "https://localhost:8080/"
        },
        "id": "KARh6j48y2i0",
        "outputId": "a4cd40f6-cb70-4e0c-f5d2-f978e8e8af75"
      },
      "execution_count": null,
      "outputs": [
        {
          "output_type": "stream",
          "name": "stdout",
          "text": [
            "Tem permissão para dirigir\n",
            "Não tem permissão para dirigir\n",
            "Tem permissão para dirigir\n"
          ]
        }
      ]
    },
    {
      "cell_type": "markdown",
      "source": [
        "# Tipos em uma lista"
      ],
      "metadata": {
        "id": "-iz0VGc60LZJ"
      }
    },
    {
      "cell_type": "code",
      "source": [
        "lista = ['guilherme', 28, True, '18']\n",
        "\n",
        "for elemento in lista:\n",
        "  print(f'o elemento {elemento} é do tipo:', type(elemento))"
      ],
      "metadata": {
        "colab": {
          "base_uri": "https://localhost:8080/"
        },
        "id": "RN-gq5uj0O1j",
        "outputId": "d69ab552-40d1-4559-8782-50a18f632e2b"
      },
      "execution_count": null,
      "outputs": [
        {
          "output_type": "stream",
          "name": "stdout",
          "text": [
            "o elemento guilherme é do tipo: <class 'str'>\n",
            "o elemento 28 é do tipo: <class 'int'>\n",
            "o elemento True é do tipo: <class 'bool'>\n",
            "o elemento 18 é do tipo: <class 'str'>\n"
          ]
        }
      ]
    },
    {
      "cell_type": "markdown",
      "source": [
        "# Imports"
      ],
      "metadata": {
        "id": "VXYn83hv1OZw"
      }
    },
    {
      "cell_type": "code",
      "source": [
        "from random import randrange, seed"
      ],
      "metadata": {
        "id": "SbvQyyF81QuV"
      },
      "execution_count": null,
      "outputs": []
    },
    {
      "cell_type": "code",
      "source": [
        "seed(10) #manipula a sequência de números geradas, uma semente = uma seuência"
      ],
      "metadata": {
        "id": "9XrKwSgF3Eij"
      },
      "execution_count": null,
      "outputs": []
    },
    {
      "cell_type": "code",
      "source": [
        "randrange(0,11,1)"
      ],
      "metadata": {
        "id": "-zw3h5NI1byu"
      },
      "execution_count": null,
      "outputs": []
    },
    {
      "cell_type": "code",
      "source": [
        "notas_matematica = []\n",
        "for notas in range(0,8,1):\n",
        "#para cada loop uma nota random é adicionada -  total 8 notas \n",
        "  notas_matematica.append(randrange(0,11,1))\n",
        "print(notas_matematica)\n",
        "print(len(notas_matematica))"
      ],
      "metadata": {
        "colab": {
          "base_uri": "https://localhost:8080/"
        },
        "id": "5G3dhQ8g1voU",
        "outputId": "9040e2e3-c279-4af8-bb99-a5839afe06c7"
      },
      "execution_count": null,
      "outputs": [
        {
          "output_type": "stream",
          "name": "stdout",
          "text": [
            "[0, 10, 1, 2, 3, 1, 6, 2]\n",
            "8\n"
          ]
        }
      ]
    },
    {
      "cell_type": "markdown",
      "source": [
        "# plotando com Matplotlib"
      ],
      "metadata": {
        "id": "2WpoK9Lv4Beh"
      }
    },
    {
      "cell_type": "code",
      "source": [
        "import matplotlib.pyplot as plt\n"
      ],
      "metadata": {
        "id": "3KKf2NhZ4ILS"
      },
      "execution_count": null,
      "outputs": []
    },
    {
      "cell_type": "code",
      "source": [
        "x = list(range(1,9,1))\n",
        "y = notas_matematica"
      ],
      "metadata": {
        "id": "vYEgiKyB4r0n"
      },
      "execution_count": null,
      "outputs": []
    },
    {
      "cell_type": "code",
      "source": [
        "plt.plot(x, y, marker = 'o')\n",
        "plt.title('Notas de Matemática')\n",
        "plt.xlabel('Provas')\n",
        "plt.ylabel('Notas')\n",
        "plt.show()"
      ],
      "metadata": {
        "colab": {
          "base_uri": "https://localhost:8080/",
          "height": 295
        },
        "id": "3q7Lrfs05SBv",
        "outputId": "d90110f3-93fd-46fd-d6d2-afdd2e31be93"
      },
      "execution_count": null,
      "outputs": [
        {
          "output_type": "display_data",
          "data": {
            "text/plain": [
              "<Figure size 432x288 with 1 Axes>"
            ],
            "image/png": "[encoded data removed]"
          },
          "metadata": {
            "needs_background": "light"
          }
        }
      ]
    }
  ]
}